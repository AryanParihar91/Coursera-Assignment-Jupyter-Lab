{
 "cells": [
  {
   "cell_type": "code",
   "execution_count": 2,
   "id": "5e3f0ef4-7b0e-4383-965d-15bce0ff013d",
   "metadata": {
    "tags": []
   },
   "outputs": [
    {
     "data": {
      "text/markdown": [
       "\n",
       "# Data Science Tools and Ecosystem\n"
      ],
      "text/plain": [
       "<IPython.core.display.Markdown object>"
      ]
     },
     "metadata": {},
     "output_type": "display_data"
    },
    {
     "data": {
      "text/markdown": [
       "\n",
       "# Introduction\n",
       "\n",
       "In this notebook, Data Science Tools and Ecosystem are summarized.\n"
      ],
      "text/plain": [
       "<IPython.core.display.Markdown object>"
      ]
     },
     "metadata": {},
     "output_type": "display_data"
    },
    {
     "data": {
      "text/markdown": [
       "\n",
       "Some of the popular languages that Data Scientists use are:\n",
       "\n",
       "1. Python\n",
       "2. Julia\n",
       "3. R\n"
      ],
      "text/plain": [
       "<IPython.core.display.Markdown object>"
      ]
     },
     "metadata": {},
     "output_type": "display_data"
    },
    {
     "data": {
      "text/markdown": [
       "\n",
       "Some of the commonly used libraries used by Data Scientists include:\n",
       "\n",
       "1. Pandas\n",
       "2. NumPy\n",
       "3. TensorFlow\n"
      ],
      "text/plain": [
       "<IPython.core.display.Markdown object>"
      ]
     },
     "metadata": {},
     "output_type": "display_data"
    },
    {
     "data": {
      "text/markdown": [
       "\n",
       "| Data Science Tools          |\n",
       "|-----------------------------|\n",
       "| Jupyter Notebooks            |\n",
       "| RStudio                      |\n",
       "| Apache Zeppelin              |\n"
      ],
      "text/plain": [
       "<IPython.core.display.Markdown object>"
      ]
     },
     "metadata": {},
     "output_type": "display_data"
    },
    {
     "data": {
      "text/markdown": [
       "\n",
       "### Below are a few examples of evaluating arithmetic expressions in Python.\n"
      ],
      "text/plain": [
       "<IPython.core.display.Markdown object>"
      ]
     },
     "metadata": {},
     "output_type": "display_data"
    }
   ],
   "source": [
    "from IPython.display import Markdown, display\n",
    "\n",
    "markdown_content = \"\"\"\n",
    "# Data Science Tools and Ecosystem\n",
    "\"\"\"\n",
    "\n",
    "display(Markdown(markdown_content))\n",
    "\n",
    "markdown_content = \"\"\"\n",
    "# Introduction\n",
    "\n",
    "In this notebook, Data Science Tools and Ecosystem are summarized.\n",
    "\"\"\"\n",
    "\n",
    "# Display the Markdown content\n",
    "display(Markdown(markdown_content))\n",
    "\n",
    "markdown_content = \"\"\"\n",
    "Some of the popular languages that Data Scientists use are:\n",
    "\n",
    "1. Python\n",
    "2. Julia\n",
    "3. R\n",
    "\"\"\"\n",
    "\n",
    "display(Markdown(markdown_content))\n",
    "\n",
    "markdown_content = \"\"\"\n",
    "Some of the commonly used libraries used by Data Scientists include:\n",
    "\n",
    "1. Pandas\n",
    "2. NumPy\n",
    "3. TensorFlow\n",
    "\"\"\"\n",
    "\n",
    "display(Markdown(markdown_content))\n",
    "\n",
    "from IPython.display import Markdown, display\n",
    "\n",
    "markdown_content = \"\"\"\n",
    "| Data Science Tools          |\n",
    "|-----------------------------|\n",
    "| Jupyter Notebooks            |\n",
    "| RStudio                      |\n",
    "| Apache Zeppelin              |\n",
    "\"\"\"\n",
    "\n",
    "display(Markdown(markdown_content))\n",
    "\n",
    "markdown_content = \"\"\"\n",
    "### Below are a few examples of evaluating arithmetic expressions in Python.\n",
    "\"\"\"\n",
    "\n",
    "display(Markdown(markdown_content))\n",
    "\n",
    "\n",
    "\n"
   ]
  },
  {
   "cell_type": "code",
   "execution_count": 4,
   "id": "9b811203-61d4-4058-a08c-9b9327aede19",
   "metadata": {
    "tags": []
   },
   "outputs": [
    {
     "data": {
      "text/plain": [
       "17"
      ]
     },
     "execution_count": 4,
     "metadata": {},
     "output_type": "execute_result"
    }
   ],
   "source": [
    "# This is a simple arithmetic expression to multiply then add integers\n",
    "(3 * 4) + 5"
   ]
  },
  {
   "cell_type": "code",
   "execution_count": 5,
   "id": "0c59b6ca-0ed9-4af2-9511-4808a7e14736",
   "metadata": {
    "tags": []
   },
   "outputs": [
    {
     "data": {
      "text/plain": [
       "3.3333333333333335"
      ]
     },
     "execution_count": 5,
     "metadata": {},
     "output_type": "execute_result"
    }
   ],
   "source": [
    "# This will convert 200 minutes to hours by dividing by 60\n",
    "200 / 60"
   ]
  },
  {
   "cell_type": "code",
   "execution_count": null,
   "id": "0e00dd43-a037-4b65-b3f8-09b3ae467ad8",
   "metadata": {},
   "outputs": [],
   "source": [
    "markdown_content = \"\"\"\n",
    "**Objectives:**\n",
    "\n",
    "- C++\n",
    "- Python\n",
    "- Julia\n",
    "- Javascript\n",
    "\"\"\"\n",
    "\n",
    "display(Markdown(markdown_content))"
   ]
  }
 ],
 "metadata": {
  "kernelspec": {
   "display_name": "Python",
   "language": "python",
   "name": "conda-env-python-py"
  },
  "language_info": {
   "codemirror_mode": {
    "name": "ipython",
    "version": 3
   },
   "file_extension": ".py",
   "mimetype": "text/x-python",
   "name": "python",
   "nbconvert_exporter": "python",
   "pygments_lexer": "ipython3",
   "version": "3.7.12"
  }
 },
 "nbformat": 4,
 "nbformat_minor": 5
}
